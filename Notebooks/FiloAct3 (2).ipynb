{
 "cells": [
  {
   "cell_type": "code",
   "execution_count": null,
   "id": "9e138944-9f24-4613-8f2a-324553d3819a",
   "metadata": {},
   "outputs": [],
   "source": [
    "import pandas as pd\n",
    "import numpy as np\n",
    "import spacy\n",
    "from spacy import displacy\n",
    "import networkx as nx\n",
    "\n",
    "import matplotlib.pyplot as plt"
   ]
  },
  {
   "cell_type": "code",
   "execution_count": null,
   "id": "d9e8c351-09af-4756-9553-7a90cd5a6227",
   "metadata": {},
   "outputs": [],
   "source": [
    "NER = spacy.load('it_core_news_sm')"
   ]
  },
  {
   "cell_type": "code",
   "execution_count": null,
   "id": "a0941c04-6ab8-4d7a-b28d-9c8e4e9f7090",
   "metadata": {},
   "outputs": [],
   "source": [
    "script= 'data/FiloAct3.txt'\n",
    "script_text = open(script, encoding='utf-8').read()\n",
    "script_doc = NER(script_text)"
   ]
  },
  {
   "cell_type": "code",
   "execution_count": null,
   "id": "37e9b242-a650-46d9-b171-3c7b2b0fe4ca",
   "metadata": {
    "tags": []
   },
   "outputs": [],
   "source": [
    "# quick test - identified entities\n",
    "displacy.render(script_doc[0:2000], style=\"ent\", jupyter=True)"
   ]
  },
  {
   "cell_type": "code",
   "execution_count": null,
   "id": "c514eb7d-7073-408f-a471-2c4a1d9be62a",
   "metadata": {
    "tags": []
   },
   "outputs": [],
   "source": [
    "# Read characters\n",
    "character_df = pd.read_csv(\"data/characters.csv\")\n",
    "#character_df"
   ]
  },
  {
   "cell_type": "code",
   "execution_count": null,
   "id": "4affc080-904d-4b32-aae1-be4cbfea924b",
   "metadata": {},
   "outputs": [],
   "source": [
    "import re \n",
    "character_df['character'] = character_df['character'].apply(lambda x: re.sub(\"[\\(].*?[\\)]\", \"\", x)) \n",
    "character_df['character_firstname'] = character_df['character'].apply(lambda x: x.split(' ', 1)[0])"
   ]
  },
  {
   "cell_type": "code",
   "execution_count": null,
   "id": "56ef0419-12ce-435a-a001-36c4e5208da1",
   "metadata": {},
   "outputs": [],
   "source": [
    "sent_entity_df = []\n",
    "\n",
    "# Loop through sentences, store named entity list for each sentence\n",
    "for sent in script_doc.sents:\n",
    "    entity_list = [ent.text for ent in sent.ents]\n",
    "    sent_entity_df.append({\"sentence\": sent, \"entities\": entity_list})\n",
    "    \n",
    "sent_entity_df = pd.DataFrame(sent_entity_df)"
   ]
  },
  {
   "cell_type": "code",
   "execution_count": null,
   "id": "42c3463c-3905-4f79-b574-1565317e60fc",
   "metadata": {
    "tags": []
   },
   "outputs": [],
   "source": [
    "sent_entity_df\n"
   ]
  },
  {
   "cell_type": "code",
   "execution_count": null,
   "id": "3e0b6bf2-adba-4049-9d32-9027287d4633",
   "metadata": {},
   "outputs": [],
   "source": [
    "# Function to filter out non-character entities\n",
    "def filter_entity(ent_list, character_df):\n",
    "    return [ent for ent in ent_list \n",
    "            if ent in list(character_df.character) \n",
    "            or ent in list(character_df.character_firstname)]"
   ]
  },
  {
   "cell_type": "code",
   "execution_count": null,
   "id": "1a48ac7c-a5ad-46f3-86e8-ab777bb6d34e",
   "metadata": {},
   "outputs": [],
   "source": [
    "filter_entity([\"Filomena\", \"Thu\", \"2\"], character_df)"
   ]
  },
  {
   "cell_type": "code",
   "execution_count": null,
   "id": "9a07e583-30d8-468e-83b0-832d6ee9bf4b",
   "metadata": {
    "tags": []
   },
   "outputs": [],
   "source": [
    "sent_entity_df['character_entities'] = sent_entity_df['entities'].apply(lambda x: filter_entity(x, character_df))\n",
    "\n",
    "# Filter out sentences that don't have any character entities\n",
    "sent_entity_df_filtered = sent_entity_df[sent_entity_df['character_entities'].map(len) > 0]\n",
    "sent_entity_df_filtered.head(10)"
   ]
  },
  {
   "cell_type": "code",
   "execution_count": null,
   "id": "eb5683f4-23e7-4ad7-b9fc-cbdaff3529b6",
   "metadata": {},
   "outputs": [],
   "source": [
    "# Take only first name of characters\n",
    "sent_entity_df_filtered['character_entities'] = sent_entity_df_filtered['character_entities'].apply(lambda x: [item.split()[0]\n",
    "                                                                                                               for item in x])\n"
   ]
  },
  {
   "cell_type": "code",
   "execution_count": null,
   "id": "fe6ec962-6bce-4779-9b6e-973159ab16db",
   "metadata": {
    "tags": []
   },
   "outputs": [],
   "source": [
    "pd.reset_option('^display.', silent=True)\n",
    "sent_entity_df_filtered"
   ]
  },
  {
   "cell_type": "code",
   "execution_count": null,
   "id": "91ff07b0-3256-43b6-aaa0-ff0d65cfc603",
   "metadata": {},
   "outputs": [],
   "source": [
    "window_size = 5\n",
    "relationships = []\n",
    "\n",
    "for i in range(sent_entity_df_filtered.index[-1]):\n",
    "    end_i = min(i+5, sent_entity_df_filtered.index[-1])\n",
    "    char_list = sum((sent_entity_df_filtered.loc[i: end_i].character_entities), [])\n",
    "    \n",
    "    # Remove duplicated characters that are next to each other\n",
    "    char_unique = [char_list[i] for i in range(len(char_list)) \n",
    "                   if (i==0) or char_list[i] != char_list[i-1]]\n",
    "    \n",
    "    if len(char_unique) > 1:\n",
    "        for idx, a in enumerate(char_unique[:-1]):\n",
    "            b = char_unique[idx + 1]\n",
    "            relationships.append({\"source\": a, \"target\": b})"
   ]
  },
  {
   "cell_type": "code",
   "execution_count": null,
   "id": "ebf893f2-89ce-4bcd-8878-b1f37052bfbd",
   "metadata": {},
   "outputs": [],
   "source": [
    "relationship_df = pd.DataFrame(relationships)"
   ]
  },
  {
   "cell_type": "code",
   "execution_count": null,
   "id": "a0d7a3bd-5794-4991-bef0-432276550f72",
   "metadata": {
    "tags": []
   },
   "outputs": [],
   "source": [
    "pd.set_option('display.max_rows', None)\n",
    "relationship_df"
   ]
  },
  {
   "cell_type": "code",
   "execution_count": null,
   "id": "a42d6cb6-00a8-4937-a074-acaec67b3c23",
   "metadata": {
    "tags": []
   },
   "outputs": [],
   "source": [
    "# Sort the cases with a->b and b->a\n",
    "relationship_df = pd.DataFrame(np.sort(relationship_df.values, axis = 1), columns = relationship_df.columns)\n",
    "relationship_df"
   ]
  },
  {
   "cell_type": "code",
   "execution_count": null,
   "id": "f628d737-5cad-4501-b6df-9ef42ffede3e",
   "metadata": {},
   "outputs": [],
   "source": [
    "relationship_df[\"value\"] = 1\n",
    "relationship_df = relationship_df.groupby([\"source\",\"target\"], sort=False, as_index=False).sum()"
   ]
  },
  {
   "cell_type": "code",
   "execution_count": null,
   "id": "c1a159ae-a1d3-4fea-9bcf-c8ee1496d87c",
   "metadata": {
    "tags": []
   },
   "outputs": [],
   "source": [
    "relationship_df"
   ]
  },
  {
   "cell_type": "code",
   "execution_count": null,
   "id": "d02920fb-1c44-44c0-92f2-be2a316c0d31",
   "metadata": {},
   "outputs": [],
   "source": [
    "#relationship_df.to_csv\n",
    "relationship_df.to_csv('output.csv', index=False, encoding='utf-8')"
   ]
  },
  {
   "cell_type": "code",
   "execution_count": null,
   "id": "aebf8d72-b834-47af-87b7-198bc1f7e6af",
   "metadata": {},
   "outputs": [],
   "source": [
    "# Create a graph from a pandas dataframe\n",
    "G = nx.from_pandas_edgelist(relationship_df, \n",
    "                            source = \"source\", \n",
    "                            target = \"target\", \n",
    "                            edge_attr = \"value\", \n",
    "                            create_using = nx.Graph())"
   ]
  },
  {
   "cell_type": "code",
   "execution_count": null,
   "id": "fc03ee46-b076-4722-9672-d1a21c247988",
   "metadata": {},
   "outputs": [],
   "source": [
    "\n",
    "plt.rcParams[\"figure.figsize\"] = (5,5)\n",
    "pos = nx.circular_layout(G)\n",
    "nx.draw_networkx(G, with_labels=True, node_color='skyblue', edge_cmap=plt.cm.Blues, pos = pos)\n",
    "plt.show()\n",
    "\n",
    "\n",
    "#plt.rcParams[\"figure.figsize\"] = (10,8)"
   ]
  },
  {
   "cell_type": "code",
   "execution_count": null,
   "id": "2a998f5b-07a0-40d0-81cd-c9c8f19d0cb2",
   "metadata": {},
   "outputs": [],
   "source": [
    "from pyvis.network import Network\n",
    "net = Network(notebook = True, width=\"1000px\", height=\"700px\", bgcolor='#ffffff', font_color='black')\n",
    "\n",
    "node_degree = dict(G.degree)\n",
    "\n",
    "#Setting up node size attribute\n",
    "nx.set_node_attributes(G, node_degree, 'size')\n",
    "\n",
    "net.from_nx(G)\n",
    "net.show(\"Filumena.html\")"
   ]
  },
  {
   "cell_type": "code",
   "execution_count": null,
   "id": "f75eeecb-0150-497e-a8a2-e11347df12fc",
   "metadata": {
    "tags": []
   },
   "outputs": [],
   "source": [
    "# Degree centrality\n",
    "degree_dict = nx.degree_centrality(G)\n",
    "degree_dict\n",
    "#number of times the circles touches the edges is the degree\n",
    "#in the dictionary we see that gandalf should be the largest node in our graph\n"
   ]
  },
  {
   "cell_type": "code",
   "execution_count": null,
   "id": "fdcd4d8b-6088-4a67-8fe8-fa8836fff392",
   "metadata": {
    "tags": []
   },
   "outputs": [],
   "source": [
    "degree_df = pd.DataFrame.from_dict(degree_dict, orient='index', columns=['centrality'])\n",
    "# Plot top 10 nodes\n",
    "degree_df.sort_values('centrality', ascending=False).plot(kind=\"bar\")"
   ]
  },
  {
   "cell_type": "code",
   "execution_count": null,
   "id": "ec0894fb-75ea-4a61-891e-e1b0887efcc4",
   "metadata": {},
   "outputs": [],
   "source": [
    "import pandas as pd\n",
    "import networkx as nx\n",
    "\n",
    "# Assuming you have already created the graph G\n",
    "\n",
    "# Calculate degree centrality\n",
    "degree_dict = nx.degree_centrality(G)\n",
    "\n",
    "# Create a DataFrame from the degree centrality dictionary\n",
    "degree_df = pd.DataFrame.from_dict(degree_dict, orient='index', columns=['Centrality'])\n",
    "\n",
    "# Sort the DataFrame by degree centrality in descending order\n",
    "degree_df = degree_df.sort_values('Centrality', ascending=False)\n",
    "\n",
    "# Reset the index to use the node IDs as a column\n",
    "degree_df.reset_index(inplace=True)\n",
    "degree_df = degree_df.rename(columns={'index': 'Node ID'})\n",
    "\n",
    "# Display the DataFrame\n",
    "print(degree_df)\n"
   ]
  },
  {
   "cell_type": "code",
   "execution_count": null,
   "id": "d09d0f37-574b-451a-9a50-3d8a9f5ae51c",
   "metadata": {
    "tags": []
   },
   "outputs": [],
   "source": [
    "# Betweenness centrality\n",
    "betweenness_dict = nx.betweenness_centrality(G)\n",
    "betweenness_df = pd.DataFrame.from_dict(betweenness_dict, orient='index', columns=['centrality'])\n",
    "# Plot top 10 nodes\n",
    "betweenness_df.sort_values('centrality', ascending=False).plot(kind=\"bar\")"
   ]
  },
  {
   "cell_type": "code",
   "execution_count": null,
   "id": "30903bf0-66b3-470b-a1e2-185d5e4b8bda",
   "metadata": {},
   "outputs": [],
   "source": [
    "import pandas as pd\n",
    "import networkx as nx\n",
    "\n",
    "# Assuming you have already created the graph G\n",
    "\n",
    "# Calculate degree centrality\n",
    "degree_dict = nx.betweenness_centrality(G)\n",
    "\n",
    "# Create a DataFrame from the degree centrality dictionary\n",
    "degree_df = pd.DataFrame.from_dict(betweenness_dict, orient='index', columns=['Centrality'])\n",
    "\n",
    "# Sort the DataFrame by degree centrality in descending order\n",
    "degree_df = degree_df.sort_values('Centrality', ascending=False)\n",
    "\n",
    "# Reset the index to use the node IDs as a column\n",
    "degree_df.reset_index(inplace=True)\n",
    "degree_df = degree_df.rename(columns={'index': 'Node ID'})\n",
    "\n",
    "# Display the DataFrame\n",
    "print(degree_df)\n"
   ]
  },
  {
   "cell_type": "code",
   "execution_count": null,
   "id": "2cd23355-c048-479f-96a2-8abc9b286271",
   "metadata": {
    "tags": []
   },
   "outputs": [],
   "source": [
    "# Closeness centrality\n",
    "closeness_dict = nx.closeness_centrality(G)\n",
    "closeness_df = pd.DataFrame.from_dict(closeness_dict, orient='index', columns=['centrality'])\n",
    "# Plot top 10 nodes\n",
    "closeness_df.sort_values('centrality', ascending=False).plot(kind=\"bar\")"
   ]
  },
  {
   "cell_type": "code",
   "execution_count": null,
   "id": "f618c3a7-17a3-4194-87fd-521ff022e9a8",
   "metadata": {},
   "outputs": [],
   "source": [
    "import pandas as pd\n",
    "import networkx as nx\n",
    "\n",
    "# Assuming you have already created the graph G\n",
    "\n",
    "# Calculate degree centrality\n",
    "degree_dict = nx.closeness_centrality(G)\n",
    "\n",
    "# Create a DataFrame from the degree centrality dictionary\n",
    "degree_df = pd.DataFrame.from_dict(closeness_dict, orient='index', columns=['Centrality'])\n",
    "\n",
    "# Sort the DataFrame by degree centrality in descending order\n",
    "degree_df = degree_df.sort_values('Centrality', ascending=False)\n",
    "\n",
    "# Reset the index to use the node IDs as a column\n",
    "degree_df.reset_index(inplace=True)\n",
    "degree_df = degree_df.rename(columns={'index': 'Node ID'})\n",
    "\n",
    "# Display the DataFrame\n",
    "print(degree_df)\n"
   ]
  },
  {
   "cell_type": "code",
   "execution_count": null,
   "id": "27ab47d0-475e-40a1-944d-c58713fd8e19",
   "metadata": {},
   "outputs": [],
   "source": [
    "import community as community_louvain"
   ]
  },
  {
   "cell_type": "code",
   "execution_count": null,
   "id": "6473f19a-99eb-497e-9f54-4b2e11aeb07f",
   "metadata": {},
   "outputs": [],
   "source": [
    "communities = community_louvain.best_partition(G)"
   ]
  },
  {
   "cell_type": "code",
   "execution_count": null,
   "id": "bc5eb0ef-b7c2-43cc-a488-5d112f8d7b36",
   "metadata": {},
   "outputs": [],
   "source": [
    "communities"
   ]
  },
  {
   "cell_type": "code",
   "execution_count": null,
   "id": "6f96f67f-b94e-4ca5-9269-713c974c9db5",
   "metadata": {},
   "outputs": [],
   "source": [
    "nx.set_node_attributes(G, communities, 'group')"
   ]
  },
  {
   "cell_type": "code",
   "execution_count": null,
   "id": "8dc5a248-cc5b-4b8a-b76e-8aa9372e61a2",
   "metadata": {},
   "outputs": [],
   "source": [
    "com_net = Network(notebook = True, width=\"1000px\", height=\"700px\", bgcolor='#222222', font_color='white')\n",
    "com_net.from_nx(G)\n",
    "com_net.show(\"Filumena_communities.html\")"
   ]
  },
  {
   "cell_type": "code",
   "execution_count": null,
   "id": "ed349287-501d-4cb0-bf1f-21765dbb7e64",
   "metadata": {},
   "outputs": [],
   "source": []
  }
 ],
 "metadata": {
  "kernelspec": {
   "display_name": "Python 3 (ipykernel)",
   "language": "python",
   "name": "python3"
  },
  "language_info": {
   "codemirror_mode": {
    "name": "ipython",
    "version": 3
   },
   "file_extension": ".py",
   "mimetype": "text/x-python",
   "name": "python",
   "nbconvert_exporter": "python",
   "pygments_lexer": "ipython3",
   "version": "3.10.0"
  }
 },
 "nbformat": 4,
 "nbformat_minor": 5
}
